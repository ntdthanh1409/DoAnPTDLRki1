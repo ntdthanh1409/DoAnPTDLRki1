{
  "nbformat": 4,
  "nbformat_minor": 0,
  "metadata": {
    "colab": {
      "name": "Xử_lí_data.ipynb",
      "provenance": [],
      "collapsed_sections": []
    },
    "kernelspec": {
      "name": "python3",
      "display_name": "Python 3"
    },
    "language_info": {
      "name": "python"
    }
  },
  "cells": [
    {
      "cell_type": "code",
      "execution_count": 23,
      "metadata": {
        "id": "8KX4dZHTDbw1"
      },
      "outputs": [],
      "source": [
        "# import thư viện\n",
        "import numpy as np\n",
        "import pandas as pd\n",
        "import matplotlib.pyplot as plt \n",
        "import seaborn as sns\n",
        "import scipy"
      ]
    },
    {
      "cell_type": "code",
      "source": [
        "# load data\n",
        "data = pd.read_csv('Lnfix.csv', encoding= 'utf-8')\n",
        "data.head(20)"
      ],
      "metadata": {
        "colab": {
          "base_uri": "https://localhost:8080/",
          "height": 676
        },
        "id": "9mZMUCj0DqsS",
        "outputId": "a5b90e45-2e7e-4b62-9db7-eb17a29712e3"
      },
      "execution_count": 2,
      "outputs": [
        {
          "output_type": "execute_result",
          "data": {
            "text/html": [
              "\n",
              "  <div id=\"df-53d4c2e4-d9f7-4716-a16f-563bee240f43\">\n",
              "    <div class=\"colab-df-container\">\n",
              "      <div>\n",
              "<style scoped>\n",
              "    .dataframe tbody tr th:only-of-type {\n",
              "        vertical-align: middle;\n",
              "    }\n",
              "\n",
              "    .dataframe tbody tr th {\n",
              "        vertical-align: top;\n",
              "    }\n",
              "\n",
              "    .dataframe thead th {\n",
              "        text-align: right;\n",
              "    }\n",
              "</style>\n",
              "<table border=\"1\" class=\"dataframe\">\n",
              "  <thead>\n",
              "    <tr style=\"text-align: right;\">\n",
              "      <th></th>\n",
              "      <th>artist</th>\n",
              "      <th>author</th>\n",
              "      <th>gernes</th>\n",
              "      <th>heart</th>\n",
              "      <th>name</th>\n",
              "      <th>star</th>\n",
              "      <th>view</th>\n",
              "      <th>words</th>\n",
              "    </tr>\n",
              "  </thead>\n",
              "  <tbody>\n",
              "    <tr>\n",
              "      <th>0</th>\n",
              "      <td>None</td>\n",
              "      <td>Phantom Of The Moonlit Night</td>\n",
              "      <td>Action,Adventure,Comedy,Fantasy,Harem,Seinen,S...</td>\n",
              "      <td>132</td>\n",
              "      <td>Running Away From The Hero! (Remake)</td>\n",
              "      <td>5.0</td>\n",
              "      <td>4071</td>\n",
              "      <td>6986</td>\n",
              "    </tr>\n",
              "    <tr>\n",
              "      <th>1</th>\n",
              "      <td>Shizuma Yoshinori (しずまよしのり)</td>\n",
              "      <td>Shuu (秋)</td>\n",
              "      <td>Action,Adventure,Comedy,Fantasy,Harem,Romance,...</td>\n",
              "      <td>6651</td>\n",
              "      <td>Maou Gakuin no Futekigousha ~Shijou Saikyou no...</td>\n",
              "      <td>4.8</td>\n",
              "      <td>5978437</td>\n",
              "      <td>636903</td>\n",
              "    </tr>\n",
              "    <tr>\n",
              "      <th>2</th>\n",
              "      <td>Fuumi</td>\n",
              "      <td>Itsuki Mizuho</td>\n",
              "      <td>Adventure,Comedy,Fantasy,Slice of Life,Superna...</td>\n",
              "      <td>130</td>\n",
              "      <td>The Novice Alchemist's Store</td>\n",
              "      <td>5.0</td>\n",
              "      <td>7644</td>\n",
              "      <td>30539</td>\n",
              "    </tr>\n",
              "    <tr>\n",
              "      <th>3</th>\n",
              "      <td>Macchi | 마끼</td>\n",
              "      <td>이윤아</td>\n",
              "      <td>Drama,Fantasy,Josei,Korean Novel,Mature,Romance</td>\n",
              "      <td>51</td>\n",
              "      <td>Lời Cầu Hôn Của Bạo Chúa</td>\n",
              "      <td>4.6</td>\n",
              "      <td>10419</td>\n",
              "      <td>43480</td>\n",
              "    </tr>\n",
              "    <tr>\n",
              "      <th>4</th>\n",
              "      <td>sime</td>\n",
              "      <td>cadet</td>\n",
              "      <td>Action,Drama,Fantasy,Romance,School Life,Seine...</td>\n",
              "      <td>1832</td>\n",
              "      <td>Ori of the Dragon Chain - \"Heart\" in the mind</td>\n",
              "      <td>4.8</td>\n",
              "      <td>358243</td>\n",
              "      <td>85317</td>\n",
              "    </tr>\n",
              "    <tr>\n",
              "      <th>5</th>\n",
              "      <td>Shirotaka</td>\n",
              "      <td>Rifujin na Magonote</td>\n",
              "      <td>Action,Adventure,Fantasy,Harem,Isekai,Web Nove...</td>\n",
              "      <td>7051</td>\n",
              "      <td>Mushoku Tensei - Isekai Ittara Honki Dasu</td>\n",
              "      <td>4.9</td>\n",
              "      <td>12107698</td>\n",
              "      <td>1436669</td>\n",
              "    </tr>\n",
              "    <tr>\n",
              "      <th>6</th>\n",
              "      <td>Poko</td>\n",
              "      <td>Takehaya</td>\n",
              "      <td>Action,Adventure,Comedy,Harem,Mecha,Slice of L...</td>\n",
              "      <td>2664</td>\n",
              "      <td>Rokujouma no Shinryakusha!?</td>\n",
              "      <td>4.9</td>\n",
              "      <td>2105928</td>\n",
              "      <td>2324415</td>\n",
              "    </tr>\n",
              "    <tr>\n",
              "      <th>7</th>\n",
              "      <td>Moran</td>\n",
              "      <td>리샤</td>\n",
              "      <td>Adventure,Comedy,Fantasy,Korean Novel,Psycholo...</td>\n",
              "      <td>209</td>\n",
              "      <td>The baby raising a devil</td>\n",
              "      <td>4.9</td>\n",
              "      <td>33291</td>\n",
              "      <td>48322</td>\n",
              "    </tr>\n",
              "    <tr>\n",
              "      <th>8</th>\n",
              "      <td>Ryutetsu</td>\n",
              "      <td>Anikki Burazza</td>\n",
              "      <td>Action,Adventure,Comedy,Fantasy,Harem,Martial ...</td>\n",
              "      <td>4479</td>\n",
              "      <td>Breakthrough with the Forbidden Master</td>\n",
              "      <td>4.9</td>\n",
              "      <td>3170603</td>\n",
              "      <td>398108</td>\n",
              "    </tr>\n",
              "    <tr>\n",
              "      <th>9</th>\n",
              "      <td>None</td>\n",
              "      <td>Nekoko</td>\n",
              "      <td>Action,Adventure,Comedy,Fantasy,Slice of Life,...</td>\n",
              "      <td>3639</td>\n",
              "      <td>Tensei shitara doragon no tamago datta ~ saiky...</td>\n",
              "      <td>4.9</td>\n",
              "      <td>2884910</td>\n",
              "      <td>628000</td>\n",
              "    </tr>\n",
              "    <tr>\n",
              "      <th>10</th>\n",
              "      <td>crescendo</td>\n",
              "      <td>살오른 곱등이</td>\n",
              "      <td>Korean Novel,Magic,Reverse Harem,Romance,Schoo...</td>\n",
              "      <td>598</td>\n",
              "      <td>Tôi Không Muốn Làm Bà Mối</td>\n",
              "      <td>4.9</td>\n",
              "      <td>358950</td>\n",
              "      <td>179894</td>\n",
              "    </tr>\n",
              "    <tr>\n",
              "      <th>11</th>\n",
              "      <td>たん旦; Tantan</td>\n",
              "      <td>氷高悠 ; Yuu Hidaka</td>\n",
              "      <td>Comedy,Romance,School Life</td>\n",
              "      <td>4710</td>\n",
              "      <td>My Plain-looking Fiancee is Secretly Sweet wit...</td>\n",
              "      <td>4.9</td>\n",
              "      <td>1113046</td>\n",
              "      <td>137991</td>\n",
              "    </tr>\n",
              "    <tr>\n",
              "      <th>12</th>\n",
              "      <td>Azure</td>\n",
              "      <td>Shiraishi Jougi</td>\n",
              "      <td>Fantasy,One shot,Slice of Life</td>\n",
              "      <td>79</td>\n",
              "      <td>Riviere to inori no kuni</td>\n",
              "      <td>4.4</td>\n",
              "      <td>6322</td>\n",
              "      <td>7026</td>\n",
              "    </tr>\n",
              "    <tr>\n",
              "      <th>13</th>\n",
              "      <td>Naenae</td>\n",
              "      <td>Sangatsu Midori</td>\n",
              "      <td>Comedy,Ecchi,Harem,Romance,School Life,Shounen</td>\n",
              "      <td>1142</td>\n",
              "      <td>Love Comedy no Kami-sama na no ni Ore no Love ...</td>\n",
              "      <td>4.9</td>\n",
              "      <td>90383</td>\n",
              "      <td>45465</td>\n",
              "    </tr>\n",
              "    <tr>\n",
              "      <th>14</th>\n",
              "      <td>None</td>\n",
              "      <td>Shinsyong</td>\n",
              "      <td>Action,Adventure,Fantasy,Game,Korean Novel,Sho...</td>\n",
              "      <td>572</td>\n",
              "      <td>Góc nhìn của Độc giả Toàn tri</td>\n",
              "      <td>5.0</td>\n",
              "      <td>122164</td>\n",
              "      <td>358050</td>\n",
              "    </tr>\n",
              "    <tr>\n",
              "      <th>15</th>\n",
              "      <td>Gin</td>\n",
              "      <td>Nahuse</td>\n",
              "      <td>Action,Adventure,Fantasy,Mecha,Mystery,Science...</td>\n",
              "      <td>340</td>\n",
              "      <td>Rebuild World</td>\n",
              "      <td>4.9</td>\n",
              "      <td>25740</td>\n",
              "      <td>83592</td>\n",
              "    </tr>\n",
              "    <tr>\n",
              "      <th>16</th>\n",
              "      <td>None</td>\n",
              "      <td>Suzuki Osamu</td>\n",
              "      <td>One shot,Romance,Slice of Life,Tragedy</td>\n",
              "      <td>19</td>\n",
              "      <td>Nếu Như Ta Có Thể Vẽ Nên Được Sinh Mệnh</td>\n",
              "      <td>4.2</td>\n",
              "      <td>1376</td>\n",
              "      <td>6790</td>\n",
              "    </tr>\n",
              "    <tr>\n",
              "      <th>17</th>\n",
              "      <td>지나가던 사람</td>\n",
              "      <td>랏슈</td>\n",
              "      <td>Drama,Fantasy,Korean Novel,Romance,Shoujo,Slic...</td>\n",
              "      <td>241</td>\n",
              "      <td>Khi đứa con gái hoang của Bá tước kết hôn</td>\n",
              "      <td>4.8</td>\n",
              "      <td>34656</td>\n",
              "      <td>55300</td>\n",
              "    </tr>\n",
              "    <tr>\n",
              "      <th>18</th>\n",
              "      <td>료</td>\n",
              "      <td>박미나</td>\n",
              "      <td>Comedy,Korean Novel,Romance,Shoujo,Web Novel</td>\n",
              "      <td>8</td>\n",
              "      <td>Đến đây, bạo chúa</td>\n",
              "      <td>5.0</td>\n",
              "      <td>1348</td>\n",
              "      <td>2555</td>\n",
              "    </tr>\n",
              "    <tr>\n",
              "      <th>19</th>\n",
              "      <td>Yappen</td>\n",
              "      <td>Makishima Suzuki</td>\n",
              "      <td>Action,Adventure,Comedy,Fantasy,Slice of Life,...</td>\n",
              "      <td>347</td>\n",
              "      <td>Welcome to Japan, Elf-san!</td>\n",
              "      <td>5.0</td>\n",
              "      <td>25947</td>\n",
              "      <td>112753</td>\n",
              "    </tr>\n",
              "  </tbody>\n",
              "</table>\n",
              "</div>\n",
              "      <button class=\"colab-df-convert\" onclick=\"convertToInteractive('df-53d4c2e4-d9f7-4716-a16f-563bee240f43')\"\n",
              "              title=\"Convert this dataframe to an interactive table.\"\n",
              "              style=\"display:none;\">\n",
              "        \n",
              "  <svg xmlns=\"http://www.w3.org/2000/svg\" height=\"24px\"viewBox=\"0 0 24 24\"\n",
              "       width=\"24px\">\n",
              "    <path d=\"M0 0h24v24H0V0z\" fill=\"none\"/>\n",
              "    <path d=\"M18.56 5.44l.94 2.06.94-2.06 2.06-.94-2.06-.94-.94-2.06-.94 2.06-2.06.94zm-11 1L8.5 8.5l.94-2.06 2.06-.94-2.06-.94L8.5 2.5l-.94 2.06-2.06.94zm10 10l.94 2.06.94-2.06 2.06-.94-2.06-.94-.94-2.06-.94 2.06-2.06.94z\"/><path d=\"M17.41 7.96l-1.37-1.37c-.4-.4-.92-.59-1.43-.59-.52 0-1.04.2-1.43.59L10.3 9.45l-7.72 7.72c-.78.78-.78 2.05 0 2.83L4 21.41c.39.39.9.59 1.41.59.51 0 1.02-.2 1.41-.59l7.78-7.78 2.81-2.81c.8-.78.8-2.07 0-2.86zM5.41 20L4 18.59l7.72-7.72 1.47 1.35L5.41 20z\"/>\n",
              "  </svg>\n",
              "      </button>\n",
              "      \n",
              "  <style>\n",
              "    .colab-df-container {\n",
              "      display:flex;\n",
              "      flex-wrap:wrap;\n",
              "      gap: 12px;\n",
              "    }\n",
              "\n",
              "    .colab-df-convert {\n",
              "      background-color: #E8F0FE;\n",
              "      border: none;\n",
              "      border-radius: 50%;\n",
              "      cursor: pointer;\n",
              "      display: none;\n",
              "      fill: #1967D2;\n",
              "      height: 32px;\n",
              "      padding: 0 0 0 0;\n",
              "      width: 32px;\n",
              "    }\n",
              "\n",
              "    .colab-df-convert:hover {\n",
              "      background-color: #E2EBFA;\n",
              "      box-shadow: 0px 1px 2px rgba(60, 64, 67, 0.3), 0px 1px 3px 1px rgba(60, 64, 67, 0.15);\n",
              "      fill: #174EA6;\n",
              "    }\n",
              "\n",
              "    [theme=dark] .colab-df-convert {\n",
              "      background-color: #3B4455;\n",
              "      fill: #D2E3FC;\n",
              "    }\n",
              "\n",
              "    [theme=dark] .colab-df-convert:hover {\n",
              "      background-color: #434B5C;\n",
              "      box-shadow: 0px 1px 3px 1px rgba(0, 0, 0, 0.15);\n",
              "      filter: drop-shadow(0px 1px 2px rgba(0, 0, 0, 0.3));\n",
              "      fill: #FFFFFF;\n",
              "    }\n",
              "  </style>\n",
              "\n",
              "      <script>\n",
              "        const buttonEl =\n",
              "          document.querySelector('#df-53d4c2e4-d9f7-4716-a16f-563bee240f43 button.colab-df-convert');\n",
              "        buttonEl.style.display =\n",
              "          google.colab.kernel.accessAllowed ? 'block' : 'none';\n",
              "\n",
              "        async function convertToInteractive(key) {\n",
              "          const element = document.querySelector('#df-53d4c2e4-d9f7-4716-a16f-563bee240f43');\n",
              "          const dataTable =\n",
              "            await google.colab.kernel.invokeFunction('convertToInteractive',\n",
              "                                                     [key], {});\n",
              "          if (!dataTable) return;\n",
              "\n",
              "          const docLinkHtml = 'Like what you see? Visit the ' +\n",
              "            '<a target=\"_blank\" href=https://colab.research.google.com/notebooks/data_table.ipynb>data table notebook</a>'\n",
              "            + ' to learn more about interactive tables.';\n",
              "          element.innerHTML = '';\n",
              "          dataTable['output_type'] = 'display_data';\n",
              "          await google.colab.output.renderOutput(dataTable, element);\n",
              "          const docLink = document.createElement('div');\n",
              "          docLink.innerHTML = docLinkHtml;\n",
              "          element.appendChild(docLink);\n",
              "        }\n",
              "      </script>\n",
              "    </div>\n",
              "  </div>\n",
              "  "
            ],
            "text/plain": [
              "                         artist  ...    words\n",
              "0                          None  ...     6986\n",
              "1   Shizuma Yoshinori (しずまよしのり)  ...   636903\n",
              "2                         Fuumi  ...    30539\n",
              "3                   Macchi | 마끼  ...    43480\n",
              "4                          sime  ...    85317\n",
              "5                     Shirotaka  ...  1436669\n",
              "6                          Poko  ...  2324415\n",
              "7                         Moran  ...    48322\n",
              "8                      Ryutetsu  ...   398108\n",
              "9                          None  ...   628000\n",
              "10                    crescendo  ...   179894\n",
              "11                  たん旦; Tantan  ...   137991\n",
              "12                        Azure  ...     7026\n",
              "13                       Naenae  ...    45465\n",
              "14                         None  ...   358050\n",
              "15                          Gin  ...    83592\n",
              "16                         None  ...     6790\n",
              "17                      지나가던 사람  ...    55300\n",
              "18                            료  ...     2555\n",
              "19                       Yappen  ...   112753\n",
              "\n",
              "[20 rows x 8 columns]"
            ]
          },
          "metadata": {},
          "execution_count": 2
        }
      ]
    },
    {
      "cell_type": "code",
      "source": [
        "df_1 = data['gernes']\n",
        "df_1\n"
      ],
      "metadata": {
        "colab": {
          "base_uri": "https://localhost:8080/"
        },
        "id": "WmQJCL02D9ZI",
        "outputId": "65ccc881-1d09-4767-ed68-2d28b1de12b9"
      },
      "execution_count": 3,
      "outputs": [
        {
          "output_type": "execute_result",
          "data": {
            "text/plain": [
              "0       Action,Adventure,Comedy,Fantasy,Harem,Seinen,S...\n",
              "1       Action,Adventure,Comedy,Fantasy,Harem,Romance,...\n",
              "2       Adventure,Comedy,Fantasy,Slice of Life,Superna...\n",
              "3         Drama,Fantasy,Josei,Korean Novel,Mature,Romance\n",
              "4       Action,Drama,Fantasy,Romance,School Life,Seine...\n",
              "                              ...                        \n",
              "1945                                Romance,Slice of Life\n",
              "1946    Action,Adventure,Comedy,Fantasy,Harem,Mystery,...\n",
              "1947    Adult,Comedy,Ecchi,Harem,Mature,Romance,School...\n",
              "1948    Action,Ecchi,Fantasy,Harem,Super Power,Adult,I...\n",
              "1949                                    Adventure,Fantasy\n",
              "Name: gernes, Length: 1950, dtype: object"
            ]
          },
          "metadata": {},
          "execution_count": 3
        }
      ]
    },
    {
      "cell_type": "code",
      "source": [
        "# Đếm có bao nhiêu Ln/ WN thuộc thể loại Action, Comedy\n",
        "count = 0\n",
        "for i in df_1:\n",
        "  isAction = False \n",
        "  isComedy = False\n",
        "  t = i.split(',') # chuyển string thành list. Ex: 'a, b, c' -> ['a', 'b', c'']\n",
        "  for x in t:\n",
        "    x = x.strip() # xoá khoảng trắng đầu và cuối kí tự ex: ' a' or 'a ' -> 'a'\n",
        "    if x == 'Comedy':\n",
        "      isComedy = True\n",
        "    if x == 'Action':\n",
        "      isAction = True\n",
        "  if isComedy == True and isAction == True:\n",
        "    count += 1\n",
        "print(count)\n",
        "      "
      ],
      "metadata": {
        "colab": {
          "base_uri": "https://localhost:8080/"
        },
        "id": "DhZ_ZHVZkWsp",
        "outputId": "108df9f6-5676-4cd6-8710-433bc5166185"
      },
      "execution_count": 4,
      "outputs": [
        {
          "output_type": "stream",
          "name": "stdout",
          "text": [
            "481\n"
          ]
        }
      ]
    },
    {
      "cell_type": "code",
      "source": [
        "# Đếm có bao nhiêu truyện thuộc thể loại Romance\n",
        "count = 0\n",
        "for i in df_1:\n",
        "  isRomance = False\n",
        "  t = i.split(',')\n",
        "  for x in t:\n",
        "    x = x.strip()\n",
        "    if x == 'Romance':\n",
        "      isRomance = True\n",
        "  if isRomance == True:\n",
        "    count+=1\n",
        "  \n",
        "print(count)"
      ],
      "metadata": {
        "colab": {
          "base_uri": "https://localhost:8080/"
        },
        "id": "ikN6cDUvmV2M",
        "outputId": "a6d49ef5-8d72-4c51-e540-3bc9e020d806"
      },
      "execution_count": 5,
      "outputs": [
        {
          "output_type": "stream",
          "name": "stdout",
          "text": [
            "1191\n"
          ]
        }
      ]
    },
    {
      "cell_type": "code",
      "source": [
        "# list các thể loại truyện\n",
        "gernes = []\n",
        "for i in df_1:\n",
        "  t = i.split(',')\n",
        "  for x in t:\n",
        "    x = x.strip()\n",
        "    if x not in gernes:\n",
        "      gernes.append(x)"
      ],
      "metadata": {
        "id": "MbC0SA9Sb4ni"
      },
      "execution_count": 6,
      "outputs": []
    },
    {
      "cell_type": "code",
      "source": [
        "gernes.sort() # sắp xếp theo bảng chữ cái\n",
        "print(gernes)\n",
        "print(len(gernes))"
      ],
      "metadata": {
        "colab": {
          "base_uri": "https://localhost:8080/"
        },
        "id": "eovXZ4mNcXVi",
        "outputId": "2407af77-1efd-4a42-b752-23cb32bd2982"
      },
      "execution_count": 7,
      "outputs": [
        {
          "output_type": "stream",
          "name": "stdout",
          "text": [
            "['Action', 'Adapted to Anime', 'Adapted to Drama CD', 'Adapted to Manga', 'Adult', 'Adventure', 'Chinese Novel', 'Comedy', 'Cooking', 'Drama', 'Ecchi', 'English Novel', 'Fantasy', 'Game', 'Gender Bender', 'Harem', 'Historical', 'Horror', 'Incest', 'Isekai', 'Josei', 'Korean Novel', 'Magic', 'Martial Arts', 'Mature', 'Mecha', 'Military', 'Mystery', 'Netorare', 'One shot', 'Otome Game', 'Psychological', 'Reverse Harem', 'Romance', 'School Life', 'Science Fiction', 'Seinen', 'Shoujo', 'Shoujo ai', 'Shounen', 'Shounen ai', 'Slice of Life', 'Sports', 'Super Power', 'Supernatural', 'Suspense', 'Tragedy', 'Web Novel', 'Yuri']\n",
            "49\n"
          ]
        }
      ]
    },
    {
      "cell_type": "code",
      "source": [
        "# số truyện có có trong từng thể loại\n",
        "gernes_count =[]\n",
        "def gerne_count(X):\n",
        "  count = 0\n",
        "  for i in df_1:\n",
        "    isA = False\n",
        "    t = i.split(',')\n",
        "    for x in t:\n",
        "      x = x.strip()\n",
        "      if x == X:\n",
        "        isA = True\n",
        "    if isA == True:\n",
        "      count+=1\n",
        "  return count\n",
        "for i in gernes:\n",
        "  gernes_count.append(gerne_count(i))\n"
      ],
      "metadata": {
        "id": "3PwgQ9XVibsJ"
      },
      "execution_count": 8,
      "outputs": []
    },
    {
      "cell_type": "code",
      "source": [
        "print(gernes_count)\n"
      ],
      "metadata": {
        "colab": {
          "base_uri": "https://localhost:8080/"
        },
        "id": "wsqrppkSkY1t",
        "outputId": "c1effedd-2c20-426c-ece2-2a39408453c1"
      },
      "execution_count": 9,
      "outputs": [
        {
          "output_type": "stream",
          "name": "stdout",
          "text": [
            "[941, 64, 17, 205, 105, 834, 54, 1028, 23, 633, 329, 2, 1195, 58, 86, 618, 43, 90, 17, 333, 46, 132, 213, 64, 182, 44, 43, 203, 6, 76, 31, 215, 6, 1191, 511, 117, 212, 145, 75, 273, 9, 532, 3, 156, 340, 18, 214, 568, 53]\n"
          ]
        }
      ]
    },
    {
      "cell_type": "code",
      "source": [
        "Type = []\n",
        "for i in data['words']:\n",
        "  if i <= 20000:\n",
        "    Type.append('Low')\n",
        "  elif 20000 < i <= 70000:\n",
        "    Type.append('Medium')\n",
        "  elif 70000 < i <= 150000:\n",
        "    Type.append('High')\n",
        "  elif 150000 < i <= 300000:\n",
        "    Type.append('Super_High')\n",
        "  else:\n",
        "    Type.append('Mega_High') \n",
        "data1 = data.copy()\n",
        "data1.insert(8, 'Type_words', Type)\n",
        "data1.head(10)"
      ],
      "metadata": {
        "colab": {
          "base_uri": "https://localhost:8080/",
          "height": 363
        },
        "id": "in6vuC00R0oL",
        "outputId": "61553dbe-a887-45db-de1c-f167e3e93566"
      },
      "execution_count": 18,
      "outputs": [
        {
          "output_type": "execute_result",
          "data": {
            "text/html": [
              "\n",
              "  <div id=\"df-e2acc25f-634e-41da-a699-e9bd5b043501\">\n",
              "    <div class=\"colab-df-container\">\n",
              "      <div>\n",
              "<style scoped>\n",
              "    .dataframe tbody tr th:only-of-type {\n",
              "        vertical-align: middle;\n",
              "    }\n",
              "\n",
              "    .dataframe tbody tr th {\n",
              "        vertical-align: top;\n",
              "    }\n",
              "\n",
              "    .dataframe thead th {\n",
              "        text-align: right;\n",
              "    }\n",
              "</style>\n",
              "<table border=\"1\" class=\"dataframe\">\n",
              "  <thead>\n",
              "    <tr style=\"text-align: right;\">\n",
              "      <th></th>\n",
              "      <th>artist</th>\n",
              "      <th>author</th>\n",
              "      <th>gernes</th>\n",
              "      <th>heart</th>\n",
              "      <th>name</th>\n",
              "      <th>star</th>\n",
              "      <th>view</th>\n",
              "      <th>words</th>\n",
              "      <th>Type_words</th>\n",
              "    </tr>\n",
              "  </thead>\n",
              "  <tbody>\n",
              "    <tr>\n",
              "      <th>0</th>\n",
              "      <td>None</td>\n",
              "      <td>Phantom Of The Moonlit Night</td>\n",
              "      <td>Action,Adventure,Comedy,Fantasy,Harem,Seinen,S...</td>\n",
              "      <td>132</td>\n",
              "      <td>Running Away From The Hero! (Remake)</td>\n",
              "      <td>5.0</td>\n",
              "      <td>4071</td>\n",
              "      <td>6986</td>\n",
              "      <td>Low</td>\n",
              "    </tr>\n",
              "    <tr>\n",
              "      <th>1</th>\n",
              "      <td>Shizuma Yoshinori (しずまよしのり)</td>\n",
              "      <td>Shuu (秋)</td>\n",
              "      <td>Action,Adventure,Comedy,Fantasy,Harem,Romance,...</td>\n",
              "      <td>6651</td>\n",
              "      <td>Maou Gakuin no Futekigousha ~Shijou Saikyou no...</td>\n",
              "      <td>4.8</td>\n",
              "      <td>5978437</td>\n",
              "      <td>636903</td>\n",
              "      <td>Mega_High</td>\n",
              "    </tr>\n",
              "    <tr>\n",
              "      <th>2</th>\n",
              "      <td>Fuumi</td>\n",
              "      <td>Itsuki Mizuho</td>\n",
              "      <td>Adventure,Comedy,Fantasy,Slice of Life,Superna...</td>\n",
              "      <td>130</td>\n",
              "      <td>The Novice Alchemist's Store</td>\n",
              "      <td>5.0</td>\n",
              "      <td>7644</td>\n",
              "      <td>30539</td>\n",
              "      <td>Medium</td>\n",
              "    </tr>\n",
              "    <tr>\n",
              "      <th>3</th>\n",
              "      <td>Macchi | 마끼</td>\n",
              "      <td>이윤아</td>\n",
              "      <td>Drama,Fantasy,Josei,Korean Novel,Mature,Romance</td>\n",
              "      <td>51</td>\n",
              "      <td>Lời Cầu Hôn Của Bạo Chúa</td>\n",
              "      <td>4.6</td>\n",
              "      <td>10419</td>\n",
              "      <td>43480</td>\n",
              "      <td>Medium</td>\n",
              "    </tr>\n",
              "    <tr>\n",
              "      <th>4</th>\n",
              "      <td>sime</td>\n",
              "      <td>cadet</td>\n",
              "      <td>Action,Drama,Fantasy,Romance,School Life,Seine...</td>\n",
              "      <td>1832</td>\n",
              "      <td>Ori of the Dragon Chain - \"Heart\" in the mind</td>\n",
              "      <td>4.8</td>\n",
              "      <td>358243</td>\n",
              "      <td>85317</td>\n",
              "      <td>High</td>\n",
              "    </tr>\n",
              "    <tr>\n",
              "      <th>5</th>\n",
              "      <td>Shirotaka</td>\n",
              "      <td>Rifujin na Magonote</td>\n",
              "      <td>Action,Adventure,Fantasy,Harem,Isekai,Web Nove...</td>\n",
              "      <td>7051</td>\n",
              "      <td>Mushoku Tensei - Isekai Ittara Honki Dasu</td>\n",
              "      <td>4.9</td>\n",
              "      <td>12107698</td>\n",
              "      <td>1436669</td>\n",
              "      <td>Mega_High</td>\n",
              "    </tr>\n",
              "    <tr>\n",
              "      <th>6</th>\n",
              "      <td>Poko</td>\n",
              "      <td>Takehaya</td>\n",
              "      <td>Action,Adventure,Comedy,Harem,Mecha,Slice of L...</td>\n",
              "      <td>2664</td>\n",
              "      <td>Rokujouma no Shinryakusha!?</td>\n",
              "      <td>4.9</td>\n",
              "      <td>2105928</td>\n",
              "      <td>2324415</td>\n",
              "      <td>Mega_High</td>\n",
              "    </tr>\n",
              "    <tr>\n",
              "      <th>7</th>\n",
              "      <td>Moran</td>\n",
              "      <td>리샤</td>\n",
              "      <td>Adventure,Comedy,Fantasy,Korean Novel,Psycholo...</td>\n",
              "      <td>209</td>\n",
              "      <td>The baby raising a devil</td>\n",
              "      <td>4.9</td>\n",
              "      <td>33291</td>\n",
              "      <td>48322</td>\n",
              "      <td>Medium</td>\n",
              "    </tr>\n",
              "    <tr>\n",
              "      <th>8</th>\n",
              "      <td>Ryutetsu</td>\n",
              "      <td>Anikki Burazza</td>\n",
              "      <td>Action,Adventure,Comedy,Fantasy,Harem,Martial ...</td>\n",
              "      <td>4479</td>\n",
              "      <td>Breakthrough with the Forbidden Master</td>\n",
              "      <td>4.9</td>\n",
              "      <td>3170603</td>\n",
              "      <td>398108</td>\n",
              "      <td>Mega_High</td>\n",
              "    </tr>\n",
              "    <tr>\n",
              "      <th>9</th>\n",
              "      <td>None</td>\n",
              "      <td>Nekoko</td>\n",
              "      <td>Action,Adventure,Comedy,Fantasy,Slice of Life,...</td>\n",
              "      <td>3639</td>\n",
              "      <td>Tensei shitara doragon no tamago datta ~ saiky...</td>\n",
              "      <td>4.9</td>\n",
              "      <td>2884910</td>\n",
              "      <td>628000</td>\n",
              "      <td>Mega_High</td>\n",
              "    </tr>\n",
              "  </tbody>\n",
              "</table>\n",
              "</div>\n",
              "      <button class=\"colab-df-convert\" onclick=\"convertToInteractive('df-e2acc25f-634e-41da-a699-e9bd5b043501')\"\n",
              "              title=\"Convert this dataframe to an interactive table.\"\n",
              "              style=\"display:none;\">\n",
              "        \n",
              "  <svg xmlns=\"http://www.w3.org/2000/svg\" height=\"24px\"viewBox=\"0 0 24 24\"\n",
              "       width=\"24px\">\n",
              "    <path d=\"M0 0h24v24H0V0z\" fill=\"none\"/>\n",
              "    <path d=\"M18.56 5.44l.94 2.06.94-2.06 2.06-.94-2.06-.94-.94-2.06-.94 2.06-2.06.94zm-11 1L8.5 8.5l.94-2.06 2.06-.94-2.06-.94L8.5 2.5l-.94 2.06-2.06.94zm10 10l.94 2.06.94-2.06 2.06-.94-2.06-.94-.94-2.06-.94 2.06-2.06.94z\"/><path d=\"M17.41 7.96l-1.37-1.37c-.4-.4-.92-.59-1.43-.59-.52 0-1.04.2-1.43.59L10.3 9.45l-7.72 7.72c-.78.78-.78 2.05 0 2.83L4 21.41c.39.39.9.59 1.41.59.51 0 1.02-.2 1.41-.59l7.78-7.78 2.81-2.81c.8-.78.8-2.07 0-2.86zM5.41 20L4 18.59l7.72-7.72 1.47 1.35L5.41 20z\"/>\n",
              "  </svg>\n",
              "      </button>\n",
              "      \n",
              "  <style>\n",
              "    .colab-df-container {\n",
              "      display:flex;\n",
              "      flex-wrap:wrap;\n",
              "      gap: 12px;\n",
              "    }\n",
              "\n",
              "    .colab-df-convert {\n",
              "      background-color: #E8F0FE;\n",
              "      border: none;\n",
              "      border-radius: 50%;\n",
              "      cursor: pointer;\n",
              "      display: none;\n",
              "      fill: #1967D2;\n",
              "      height: 32px;\n",
              "      padding: 0 0 0 0;\n",
              "      width: 32px;\n",
              "    }\n",
              "\n",
              "    .colab-df-convert:hover {\n",
              "      background-color: #E2EBFA;\n",
              "      box-shadow: 0px 1px 2px rgba(60, 64, 67, 0.3), 0px 1px 3px 1px rgba(60, 64, 67, 0.15);\n",
              "      fill: #174EA6;\n",
              "    }\n",
              "\n",
              "    [theme=dark] .colab-df-convert {\n",
              "      background-color: #3B4455;\n",
              "      fill: #D2E3FC;\n",
              "    }\n",
              "\n",
              "    [theme=dark] .colab-df-convert:hover {\n",
              "      background-color: #434B5C;\n",
              "      box-shadow: 0px 1px 3px 1px rgba(0, 0, 0, 0.15);\n",
              "      filter: drop-shadow(0px 1px 2px rgba(0, 0, 0, 0.3));\n",
              "      fill: #FFFFFF;\n",
              "    }\n",
              "  </style>\n",
              "\n",
              "      <script>\n",
              "        const buttonEl =\n",
              "          document.querySelector('#df-e2acc25f-634e-41da-a699-e9bd5b043501 button.colab-df-convert');\n",
              "        buttonEl.style.display =\n",
              "          google.colab.kernel.accessAllowed ? 'block' : 'none';\n",
              "\n",
              "        async function convertToInteractive(key) {\n",
              "          const element = document.querySelector('#df-e2acc25f-634e-41da-a699-e9bd5b043501');\n",
              "          const dataTable =\n",
              "            await google.colab.kernel.invokeFunction('convertToInteractive',\n",
              "                                                     [key], {});\n",
              "          if (!dataTable) return;\n",
              "\n",
              "          const docLinkHtml = 'Like what you see? Visit the ' +\n",
              "            '<a target=\"_blank\" href=https://colab.research.google.com/notebooks/data_table.ipynb>data table notebook</a>'\n",
              "            + ' to learn more about interactive tables.';\n",
              "          element.innerHTML = '';\n",
              "          dataTable['output_type'] = 'display_data';\n",
              "          await google.colab.output.renderOutput(dataTable, element);\n",
              "          const docLink = document.createElement('div');\n",
              "          docLink.innerHTML = docLinkHtml;\n",
              "          element.appendChild(docLink);\n",
              "        }\n",
              "      </script>\n",
              "    </div>\n",
              "  </div>\n",
              "  "
            ],
            "text/plain": [
              "                        artist  ... Type_words\n",
              "0                         None  ...        Low\n",
              "1  Shizuma Yoshinori (しずまよしのり)  ...  Mega_High\n",
              "2                        Fuumi  ...     Medium\n",
              "3                  Macchi | 마끼  ...     Medium\n",
              "4                         sime  ...       High\n",
              "5                    Shirotaka  ...  Mega_High\n",
              "6                         Poko  ...  Mega_High\n",
              "7                        Moran  ...     Medium\n",
              "8                     Ryutetsu  ...  Mega_High\n",
              "9                         None  ...  Mega_High\n",
              "\n",
              "[10 rows x 9 columns]"
            ]
          },
          "metadata": {},
          "execution_count": 18
        }
      ]
    },
    {
      "cell_type": "code",
      "source": [
        "# bảng thống kê % words\n",
        "x = data1.groupby('Type_words')['Type_words'].count() # tạo nhóm dữ liệu theo cột Type_words\n",
        "x = pd.DataFrame(x) # chuyển thành dataframe\n",
        "x.columns = ['Percent'] # chuyển cột với index là Percent\n",
        "type_inc = x/sum(x['Percent'])*100\n",
        "type_inc\n"
      ],
      "metadata": {
        "colab": {
          "base_uri": "https://localhost:8080/",
          "height": 237
        },
        "id": "W8Ajm2IMTvd4",
        "outputId": "8dc98983-eab6-4080-f703-b2691f0af715"
      },
      "execution_count": 11,
      "outputs": [
        {
          "output_type": "execute_result",
          "data": {
            "text/html": [
              "\n",
              "  <div id=\"df-00d3e801-d459-4942-85ba-a28781f0135b\">\n",
              "    <div class=\"colab-df-container\">\n",
              "      <div>\n",
              "<style scoped>\n",
              "    .dataframe tbody tr th:only-of-type {\n",
              "        vertical-align: middle;\n",
              "    }\n",
              "\n",
              "    .dataframe tbody tr th {\n",
              "        vertical-align: top;\n",
              "    }\n",
              "\n",
              "    .dataframe thead th {\n",
              "        text-align: right;\n",
              "    }\n",
              "</style>\n",
              "<table border=\"1\" class=\"dataframe\">\n",
              "  <thead>\n",
              "    <tr style=\"text-align: right;\">\n",
              "      <th></th>\n",
              "      <th>Percent</th>\n",
              "    </tr>\n",
              "    <tr>\n",
              "      <th>Type_words</th>\n",
              "      <th></th>\n",
              "    </tr>\n",
              "  </thead>\n",
              "  <tbody>\n",
              "    <tr>\n",
              "      <th>High</th>\n",
              "      <td>13.487179</td>\n",
              "    </tr>\n",
              "    <tr>\n",
              "      <th>Low</th>\n",
              "      <td>45.128205</td>\n",
              "    </tr>\n",
              "    <tr>\n",
              "      <th>Medium</th>\n",
              "      <td>28.358974</td>\n",
              "    </tr>\n",
              "    <tr>\n",
              "      <th>Mega_High</th>\n",
              "      <td>5.589744</td>\n",
              "    </tr>\n",
              "    <tr>\n",
              "      <th>Super_High</th>\n",
              "      <td>7.435897</td>\n",
              "    </tr>\n",
              "  </tbody>\n",
              "</table>\n",
              "</div>\n",
              "      <button class=\"colab-df-convert\" onclick=\"convertToInteractive('df-00d3e801-d459-4942-85ba-a28781f0135b')\"\n",
              "              title=\"Convert this dataframe to an interactive table.\"\n",
              "              style=\"display:none;\">\n",
              "        \n",
              "  <svg xmlns=\"http://www.w3.org/2000/svg\" height=\"24px\"viewBox=\"0 0 24 24\"\n",
              "       width=\"24px\">\n",
              "    <path d=\"M0 0h24v24H0V0z\" fill=\"none\"/>\n",
              "    <path d=\"M18.56 5.44l.94 2.06.94-2.06 2.06-.94-2.06-.94-.94-2.06-.94 2.06-2.06.94zm-11 1L8.5 8.5l.94-2.06 2.06-.94-2.06-.94L8.5 2.5l-.94 2.06-2.06.94zm10 10l.94 2.06.94-2.06 2.06-.94-2.06-.94-.94-2.06-.94 2.06-2.06.94z\"/><path d=\"M17.41 7.96l-1.37-1.37c-.4-.4-.92-.59-1.43-.59-.52 0-1.04.2-1.43.59L10.3 9.45l-7.72 7.72c-.78.78-.78 2.05 0 2.83L4 21.41c.39.39.9.59 1.41.59.51 0 1.02-.2 1.41-.59l7.78-7.78 2.81-2.81c.8-.78.8-2.07 0-2.86zM5.41 20L4 18.59l7.72-7.72 1.47 1.35L5.41 20z\"/>\n",
              "  </svg>\n",
              "      </button>\n",
              "      \n",
              "  <style>\n",
              "    .colab-df-container {\n",
              "      display:flex;\n",
              "      flex-wrap:wrap;\n",
              "      gap: 12px;\n",
              "    }\n",
              "\n",
              "    .colab-df-convert {\n",
              "      background-color: #E8F0FE;\n",
              "      border: none;\n",
              "      border-radius: 50%;\n",
              "      cursor: pointer;\n",
              "      display: none;\n",
              "      fill: #1967D2;\n",
              "      height: 32px;\n",
              "      padding: 0 0 0 0;\n",
              "      width: 32px;\n",
              "    }\n",
              "\n",
              "    .colab-df-convert:hover {\n",
              "      background-color: #E2EBFA;\n",
              "      box-shadow: 0px 1px 2px rgba(60, 64, 67, 0.3), 0px 1px 3px 1px rgba(60, 64, 67, 0.15);\n",
              "      fill: #174EA6;\n",
              "    }\n",
              "\n",
              "    [theme=dark] .colab-df-convert {\n",
              "      background-color: #3B4455;\n",
              "      fill: #D2E3FC;\n",
              "    }\n",
              "\n",
              "    [theme=dark] .colab-df-convert:hover {\n",
              "      background-color: #434B5C;\n",
              "      box-shadow: 0px 1px 3px 1px rgba(0, 0, 0, 0.15);\n",
              "      filter: drop-shadow(0px 1px 2px rgba(0, 0, 0, 0.3));\n",
              "      fill: #FFFFFF;\n",
              "    }\n",
              "  </style>\n",
              "\n",
              "      <script>\n",
              "        const buttonEl =\n",
              "          document.querySelector('#df-00d3e801-d459-4942-85ba-a28781f0135b button.colab-df-convert');\n",
              "        buttonEl.style.display =\n",
              "          google.colab.kernel.accessAllowed ? 'block' : 'none';\n",
              "\n",
              "        async function convertToInteractive(key) {\n",
              "          const element = document.querySelector('#df-00d3e801-d459-4942-85ba-a28781f0135b');\n",
              "          const dataTable =\n",
              "            await google.colab.kernel.invokeFunction('convertToInteractive',\n",
              "                                                     [key], {});\n",
              "          if (!dataTable) return;\n",
              "\n",
              "          const docLinkHtml = 'Like what you see? Visit the ' +\n",
              "            '<a target=\"_blank\" href=https://colab.research.google.com/notebooks/data_table.ipynb>data table notebook</a>'\n",
              "            + ' to learn more about interactive tables.';\n",
              "          element.innerHTML = '';\n",
              "          dataTable['output_type'] = 'display_data';\n",
              "          await google.colab.output.renderOutput(dataTable, element);\n",
              "          const docLink = document.createElement('div');\n",
              "          docLink.innerHTML = docLinkHtml;\n",
              "          element.appendChild(docLink);\n",
              "        }\n",
              "      </script>\n",
              "    </div>\n",
              "  </div>\n",
              "  "
            ],
            "text/plain": [
              "              Percent\n",
              "Type_words           \n",
              "High        13.487179\n",
              "Low         45.128205\n",
              "Medium      28.358974\n",
              "Mega_High    5.589744\n",
              "Super_High   7.435897"
            ]
          },
          "metadata": {},
          "execution_count": 11
        }
      ]
    },
    {
      "cell_type": "code",
      "source": [
        "plt.figure(figsize=(8, 8))\n",
        "type_inc.plot()\n",
        "plt.xticks(rotation =90, fontsize=10)\n",
        "plt.xticks(fontsize=10)\n",
        "plt.xlabel('Type_words', fontsize=15)\n",
        "plt.ylabel('Percent', fontsize=15)"
      ],
      "metadata": {
        "colab": {
          "base_uri": "https://localhost:8080/",
          "height": 370
        },
        "id": "ami0i4EOXTkh",
        "outputId": "b4399d9b-3022-4657-a949-d4d0cb4047c5"
      },
      "execution_count": 12,
      "outputs": [
        {
          "output_type": "execute_result",
          "data": {
            "text/plain": [
              "Text(0, 0.5, 'Percent')"
            ]
          },
          "metadata": {},
          "execution_count": 12
        },
        {
          "output_type": "display_data",
          "data": {
            "text/plain": [
              "<Figure size 576x576 with 0 Axes>"
            ]
          },
          "metadata": {}
        },
        {
          "output_type": "display_data",
          "data": {
            "image/png": "[encoded data removed]",
            "text/plain": [
              "<Figure size 432x288 with 1 Axes>"
            ]
          },
          "metadata": {
            "needs_background": "light"
          }
        }
      ]
    },
    {
      "cell_type": "code",
      "source": [
        "Type_view = []\n",
        "for i in data1['view']:\n",
        "  if i <= 20000:\n",
        "    Type_view.append('Low')\n",
        "  elif 20000 < i <= 70000:\n",
        "    Type_view.append('Medium')\n",
        "  elif 70000 < i <= 150000:\n",
        "    Type_view.append('High')\n",
        "  elif 150000 < i <= 300000:\n",
        "    Type_view.append('Super_High')\n",
        "  else:\n",
        "    Type_view.append('Mega_High') \n",
        "data1['Type_view'] = pd.Series(Type_view)"
      ],
      "metadata": {
        "id": "Gsjl9fSwSEs8"
      },
      "execution_count": 19,
      "outputs": []
    },
    {
      "cell_type": "code",
      "source": [
        "# bảng thống kê % view\n",
        "x = data1.groupby('Type_view')['Type_view'].count() # tạo nhóm dữ liệu theo cột Type_words\n",
        "x = pd.DataFrame(x) # chuyển thành dataframe\n",
        "x.columns = ['Percent'] # chuyển cột với index là Percent\n",
        "type_inc = x/sum(x['Percent'])*100\n",
        "type_inc"
      ],
      "metadata": {
        "colab": {
          "base_uri": "https://localhost:8080/",
          "height": 237
        },
        "id": "-qqBfGJmRvT9",
        "outputId": "9e00a48b-f975-46c6-b649-5e30e8b089ce"
      },
      "execution_count": 20,
      "outputs": [
        {
          "output_type": "execute_result",
          "data": {
            "text/html": [
              "\n",
              "  <div id=\"df-eb07a5d5-3c3e-465d-9ba1-0133aa2396f2\">\n",
              "    <div class=\"colab-df-container\">\n",
              "      <div>\n",
              "<style scoped>\n",
              "    .dataframe tbody tr th:only-of-type {\n",
              "        vertical-align: middle;\n",
              "    }\n",
              "\n",
              "    .dataframe tbody tr th {\n",
              "        vertical-align: top;\n",
              "    }\n",
              "\n",
              "    .dataframe thead th {\n",
              "        text-align: right;\n",
              "    }\n",
              "</style>\n",
              "<table border=\"1\" class=\"dataframe\">\n",
              "  <thead>\n",
              "    <tr style=\"text-align: right;\">\n",
              "      <th></th>\n",
              "      <th>Percent</th>\n",
              "    </tr>\n",
              "    <tr>\n",
              "      <th>Type_view</th>\n",
              "      <th></th>\n",
              "    </tr>\n",
              "  </thead>\n",
              "  <tbody>\n",
              "    <tr>\n",
              "      <th>High</th>\n",
              "      <td>13.333333</td>\n",
              "    </tr>\n",
              "    <tr>\n",
              "      <th>Low</th>\n",
              "      <td>32.512821</td>\n",
              "    </tr>\n",
              "    <tr>\n",
              "      <th>Medium</th>\n",
              "      <td>36.256410</td>\n",
              "    </tr>\n",
              "    <tr>\n",
              "      <th>Mega_High</th>\n",
              "      <td>9.743590</td>\n",
              "    </tr>\n",
              "    <tr>\n",
              "      <th>Super_High</th>\n",
              "      <td>8.153846</td>\n",
              "    </tr>\n",
              "  </tbody>\n",
              "</table>\n",
              "</div>\n",
              "      <button class=\"colab-df-convert\" onclick=\"convertToInteractive('df-eb07a5d5-3c3e-465d-9ba1-0133aa2396f2')\"\n",
              "              title=\"Convert this dataframe to an interactive table.\"\n",
              "              style=\"display:none;\">\n",
              "        \n",
              "  <svg xmlns=\"http://www.w3.org/2000/svg\" height=\"24px\"viewBox=\"0 0 24 24\"\n",
              "       width=\"24px\">\n",
              "    <path d=\"M0 0h24v24H0V0z\" fill=\"none\"/>\n",
              "    <path d=\"M18.56 5.44l.94 2.06.94-2.06 2.06-.94-2.06-.94-.94-2.06-.94 2.06-2.06.94zm-11 1L8.5 8.5l.94-2.06 2.06-.94-2.06-.94L8.5 2.5l-.94 2.06-2.06.94zm10 10l.94 2.06.94-2.06 2.06-.94-2.06-.94-.94-2.06-.94 2.06-2.06.94z\"/><path d=\"M17.41 7.96l-1.37-1.37c-.4-.4-.92-.59-1.43-.59-.52 0-1.04.2-1.43.59L10.3 9.45l-7.72 7.72c-.78.78-.78 2.05 0 2.83L4 21.41c.39.39.9.59 1.41.59.51 0 1.02-.2 1.41-.59l7.78-7.78 2.81-2.81c.8-.78.8-2.07 0-2.86zM5.41 20L4 18.59l7.72-7.72 1.47 1.35L5.41 20z\"/>\n",
              "  </svg>\n",
              "      </button>\n",
              "      \n",
              "  <style>\n",
              "    .colab-df-container {\n",
              "      display:flex;\n",
              "      flex-wrap:wrap;\n",
              "      gap: 12px;\n",
              "    }\n",
              "\n",
              "    .colab-df-convert {\n",
              "      background-color: #E8F0FE;\n",
              "      border: none;\n",
              "      border-radius: 50%;\n",
              "      cursor: pointer;\n",
              "      display: none;\n",
              "      fill: #1967D2;\n",
              "      height: 32px;\n",
              "      padding: 0 0 0 0;\n",
              "      width: 32px;\n",
              "    }\n",
              "\n",
              "    .colab-df-convert:hover {\n",
              "      background-color: #E2EBFA;\n",
              "      box-shadow: 0px 1px 2px rgba(60, 64, 67, 0.3), 0px 1px 3px 1px rgba(60, 64, 67, 0.15);\n",
              "      fill: #174EA6;\n",
              "    }\n",
              "\n",
              "    [theme=dark] .colab-df-convert {\n",
              "      background-color: #3B4455;\n",
              "      fill: #D2E3FC;\n",
              "    }\n",
              "\n",
              "    [theme=dark] .colab-df-convert:hover {\n",
              "      background-color: #434B5C;\n",
              "      box-shadow: 0px 1px 3px 1px rgba(0, 0, 0, 0.15);\n",
              "      filter: drop-shadow(0px 1px 2px rgba(0, 0, 0, 0.3));\n",
              "      fill: #FFFFFF;\n",
              "    }\n",
              "  </style>\n",
              "\n",
              "      <script>\n",
              "        const buttonEl =\n",
              "          document.querySelector('#df-eb07a5d5-3c3e-465d-9ba1-0133aa2396f2 button.colab-df-convert');\n",
              "        buttonEl.style.display =\n",
              "          google.colab.kernel.accessAllowed ? 'block' : 'none';\n",
              "\n",
              "        async function convertToInteractive(key) {\n",
              "          const element = document.querySelector('#df-eb07a5d5-3c3e-465d-9ba1-0133aa2396f2');\n",
              "          const dataTable =\n",
              "            await google.colab.kernel.invokeFunction('convertToInteractive',\n",
              "                                                     [key], {});\n",
              "          if (!dataTable) return;\n",
              "\n",
              "          const docLinkHtml = 'Like what you see? Visit the ' +\n",
              "            '<a target=\"_blank\" href=https://colab.research.google.com/notebooks/data_table.ipynb>data table notebook</a>'\n",
              "            + ' to learn more about interactive tables.';\n",
              "          element.innerHTML = '';\n",
              "          dataTable['output_type'] = 'display_data';\n",
              "          await google.colab.output.renderOutput(dataTable, element);\n",
              "          const docLink = document.createElement('div');\n",
              "          docLink.innerHTML = docLinkHtml;\n",
              "          element.appendChild(docLink);\n",
              "        }\n",
              "      </script>\n",
              "    </div>\n",
              "  </div>\n",
              "  "
            ],
            "text/plain": [
              "              Percent\n",
              "Type_view            \n",
              "High        13.333333\n",
              "Low         32.512821\n",
              "Medium      36.256410\n",
              "Mega_High    9.743590\n",
              "Super_High   8.153846"
            ]
          },
          "metadata": {},
          "execution_count": 20
        }
      ]
    },
    {
      "cell_type": "code",
      "source": [
        "plt.figure(figsize=(8, 8))\n",
        "type_inc.plot()\n",
        "plt.xticks(rotation =90, fontsize=10)\n",
        "plt.xticks(fontsize=10)\n",
        "plt.xlabel('Type_view', fontsize=15)\n",
        "plt.ylabel('Percent', fontsize=15)"
      ],
      "metadata": {
        "colab": {
          "base_uri": "https://localhost:8080/",
          "height": 370
        },
        "id": "30KYfakBSe6d",
        "outputId": "8f299f6f-9d2a-4e00-f989-2c21888f303e"
      },
      "execution_count": 21,
      "outputs": [
        {
          "output_type": "execute_result",
          "data": {
            "text/plain": [
              "Text(0, 0.5, 'Percent')"
            ]
          },
          "metadata": {},
          "execution_count": 21
        },
        {
          "output_type": "display_data",
          "data": {
            "text/plain": [
              "<Figure size 576x576 with 0 Axes>"
            ]
          },
          "metadata": {}
        },
        {
          "output_type": "display_data",
          "data": {
            "image/png": "[encoded data removed]",
            "text/plain": [
              "<Figure size 432x288 with 1 Axes>"
            ]
          },
          "metadata": {
            "needs_background": "light"
          }
        }
      ]
    },
    {
      "cell_type": "markdown",
      "source": [
        "### Xem tổng quát dữ liệu"
      ],
      "metadata": {
        "id": "QcKJ57nbTTDv"
      }
    },
    {
      "cell_type": "code",
      "source": [
        "sns.pairplot(data)"
      ],
      "metadata": {
        "colab": {
          "base_uri": "https://localhost:8080/",
          "height": 744
        },
        "id": "YEy1PBZ-Sq9_",
        "outputId": "67711bb9-1120-4915-cd49-82fbf4d3e690"
      },
      "execution_count": 24,
      "outputs": [
        {
          "output_type": "execute_result",
          "data": {
            "text/plain": [
              "<seaborn.axisgrid.PairGrid at 0x7fb915d69bd0>"
            ]
          },
          "metadata": {},
          "execution_count": 24
        },
        {
          "output_type": "display_data",
          "data": {
            "image/png": "[encoded data removed]",
            "text/plain": [
              "<Figure size 720x720 with 20 Axes>"
            ]
          },
          "metadata": {
            "needs_background": "light"
          }
        }
      ]
    },
    {
      "cell_type": "markdown",
      "source": [
        "### Tìm max, min và độ lệch chuẩn của dữ liệu"
      ],
      "metadata": {
        "id": "lt-pf30qU53-"
      }
    },
    {
      "cell_type": "code",
      "source": [
        "min_value = data.min(skipna = True, numeric_only= True)\n",
        "print(min_value)\n",
        "print('-'*50)"
      ],
      "metadata": {
        "colab": {
          "base_uri": "https://localhost:8080/"
        },
        "id": "mPmm40dnTQvg",
        "outputId": "f771722f-aceb-4e87-9df5-774fe269a411"
      },
      "execution_count": 25,
      "outputs": [
        {
          "output_type": "stream",
          "name": "stdout",
          "text": [
            "heart       7.0\n",
            "star        0.0\n",
            "view     1055.0\n",
            "words     484.0\n",
            "dtype: float64\n",
            "--------------------------------------------------\n"
          ]
        }
      ]
    },
    {
      "cell_type": "code",
      "source": [
        "max_value = data.max(skipna = True, numeric_only= True)\n",
        "print(max_value)\n",
        "print('-'*50)"
      ],
      "metadata": {
        "colab": {
          "base_uri": "https://localhost:8080/"
        },
        "id": "HqHD7MatUgZY",
        "outputId": "f7a65108-dbd7-402b-ca18-3bed456abd55"
      },
      "execution_count": 26,
      "outputs": [
        {
          "output_type": "stream",
          "name": "stdout",
          "text": [
            "heart        8731.0\n",
            "star            5.0\n",
            "view     12579395.0\n",
            "words     2725961.0\n",
            "dtype: float64\n",
            "--------------------------------------------------\n"
          ]
        }
      ]
    },
    {
      "cell_type": "code",
      "source": [
        "print('Phạm vi của dữ liệu:')\n",
        "print(max_value - min_value)\n",
        "print('-'*50)"
      ],
      "metadata": {
        "colab": {
          "base_uri": "https://localhost:8080/"
        },
        "id": "yv1Tcs14Un53",
        "outputId": "c05e90a1-b10e-4caf-974c-4b7f67f5f24e"
      },
      "execution_count": 27,
      "outputs": [
        {
          "output_type": "stream",
          "name": "stdout",
          "text": [
            "Phạm vi của dữ liệu:\n",
            "heart        8724.0\n",
            "star            5.0\n",
            "view     12578340.0\n",
            "words     2725477.0\n",
            "dtype: float64\n",
            "--------------------------------------------------\n"
          ]
        }
      ]
    },
    {
      "cell_type": "code",
      "source": [
        "# độ lệch chuẩn\n",
        "print('Độ lệch chuẩn của data:')\n",
        "data.std(skipna=True)"
      ],
      "metadata": {
        "colab": {
          "base_uri": "https://localhost:8080/"
        },
        "id": "eQNr4khnczp7",
        "outputId": "e8231113-81d1-44e0-ef4d-fcb8cb2c5a0d"
      },
      "execution_count": 29,
      "outputs": [
        {
          "output_type": "stream",
          "name": "stdout",
          "text": [
            "Độ lệch chuẩn của data:\n"
          ]
        },
        {
          "output_type": "execute_result",
          "data": {
            "text/plain": [
              "heart       775.263210\n",
              "star          0.431635\n",
              "view     625655.299411\n",
              "words    176223.640507\n",
              "dtype: float64"
            ]
          },
          "metadata": {},
          "execution_count": 29
        }
      ]
    },
    {
      "cell_type": "markdown",
      "source": [
        "## Tương quan giữa số lượt xem và số lượng chữ"
      ],
      "metadata": {
        "id": "z-8D7CsVVBLW"
      }
    },
    {
      "cell_type": "code",
      "source": [
        "plt.figure(figsize=(7,10))\n",
        "plt.title('Compare', fontsize = 15)\n",
        "data[['view', 'words']].boxplot()\n",
        "plt.ylabel('Count')"
      ],
      "metadata": {
        "colab": {
          "base_uri": "https://localhost:8080/",
          "height": 628
        },
        "id": "njQSum8hU77l",
        "outputId": "38d42f41-e8c4-43c0-8de3-0baa98bedec9"
      },
      "execution_count": 28,
      "outputs": [
        {
          "output_type": "execute_result",
          "data": {
            "text/plain": [
              "Text(0, 0.5, 'Count')"
            ]
          },
          "metadata": {},
          "execution_count": 28
        },
        {
          "output_type": "display_data",
          "data": {
            "image/png": "[encoded data removed]",
            "text/plain": [
              "<Figure size 504x720 with 1 Axes>"
            ]
          },
          "metadata": {
            "needs_background": "light"
          }
        }
      ]
    }
  ]
}